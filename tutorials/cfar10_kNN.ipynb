{
 "cells": [
  {
   "cell_type": "markdown",
   "metadata": {
    "id": "f2G3B0xm7guP"
   },
   "source": [
    "# k-NN model to classify the CIFAR10 data set\n",
    "\n",
    "In this first tutorial, we will get started with image classification. We will work with a classical (but difficult) data set named CIFAR10. it is composed of 60000 images with 10 classes. The goal is to train a classifier which is able to assign the correct class when presented with an image it did not see before.\n",
    "\n",
    "For this first tutorial, we will program k-NN classification and compare our results with the `sklearn` library. The goal is to get familiar with manipulating image data and image classification. In the next tutorials we will tackle more competitive methods.\n",
    "\n",
    "**NB:** To work through this notebook, you will have to execute cells (Shift + Return) after **filling in the code where `...` are located**. These are the places you need to work on. Read all the comments above the cells, they are useful!"
   ]
  },
  {
   "cell_type": "markdown",
   "metadata": {},
   "source": [
    "Run the notebook in Google colab:\n",
    "https://colab.research.google.com/github/heprom/cvml/blob/main/corrections/cfar10_kNN.ipynb"
   ]
  },
  {
   "cell_type": "markdown",
   "metadata": {},
   "source": [
    "Start by importing the numpy package which is used heavily by all data science activities for array manipulation. As we shall see, images are nothing else but multidimensional arrays."
   ]
  },
  {
   "cell_type": "code",
   "execution_count": null,
   "metadata": {},
   "outputs": [],
   "source": [
    "import numpy as np"
   ]
  },
  {
   "cell_type": "markdown",
   "metadata": {
    "id": "V5gZe93I7guW"
   },
   "source": [
    "## Prepare and get a sense of the data\n",
    "\n",
    "We start by loading our image data set: CIFAR10. Do this by using the method `cifar10.load_data`. This will directly give you the data in form of `numpy` arrays and partitioned into train and test data."
   ]
  },
  {
   "cell_type": "code",
   "execution_count": null,
   "metadata": {
    "id": "zf7kj5Yy7guY"
   },
   "outputs": [],
   "source": [
    "from tensorflow.keras.datasets import cifar10\n",
    "\n",
    "(x_train, y_train), (x_test, y_test) = ..."
   ]
  },
  {
   "cell_type": "markdown",
   "metadata": {},
   "source": [
    "Observe the shape and type of the data points (use attributes `shape` and `dtype`): they are in 8 bits RGB image form $32\\times 32 \\times3$. In this case the number of features is $d=3072$."
   ]
  },
  {
   "cell_type": "code",
   "execution_count": null,
   "metadata": {},
   "outputs": [],
   "source": [
    "print('shape of train data is {}, type is {}'.format(..., ...))\n",
    "print('shape of test data is {}, type is {}'.format(..., ...))"
   ]
  },
  {
   "cell_type": "markdown",
   "metadata": {
    "id": "H2LTG4057gub"
   },
   "source": [
    "Plot an image using `matplotlib`. The function `imshow` automatically interpret the third dimension of the image as the RGB channels."
   ]
  },
  {
   "cell_type": "code",
   "execution_count": null,
   "metadata": {
    "id": "U8liPgSr7guc"
   },
   "outputs": [],
   "source": [
    "import matplotlib\n",
    "from matplotlib import pyplot as plt\n",
    "%matplotlib inline\n",
    "\n",
    "plt.imshow(...)\n",
    "plt.axis('off')\n",
    "plt.show()"
   ]
  },
  {
   "cell_type": "markdown",
   "metadata": {
    "id": "QHkQRxKT7gud"
   },
   "source": [
    "Plot the first 100 image in a 10 x 10 grid to get a sense of the data, note that `for i in range(10):` will create a loop on index `i` with 10 values between 0 and 9"
   ]
  },
  {
   "cell_type": "code",
   "execution_count": null,
   "metadata": {
    "id": "FuU3r3D67guf"
   },
   "outputs": [],
   "source": [
    "plt.figure(figsize=(6, 6))\n",
    "for i ...\n",
    "    for j ...\n",
    "        index = ...\n",
    "        axi = plt.subplot(10, 10, index + 1)\n",
    "        axi.imshow(...)\n",
    "        axi.axis('off')\n",
    "plt.show()"
   ]
  },
  {
   "cell_type": "markdown",
   "metadata": {
    "id": "VBgY1Jzt7gug"
   },
   "source": [
    "The `y_train` vector corresponds to one of the 10 class ids. observe the class ids using the `np.unique` function of `numpy`. Then look at the class index (ground thruth) of the first 5 images in the training set."
   ]
  },
  {
   "cell_type": "code",
   "execution_count": null,
   "metadata": {
    "id": "bou5kYM47gug"
   },
   "outputs": [],
   "source": [
    "# print all class ids\n",
    "print(np.unique(...))\n",
    "\n",
    "# print the class (ground truth) of the first 5 images\n",
    "print(...)"
   ]
  },
  {
   "cell_type": "markdown",
   "metadata": {
    "id": "cJHmuM4qdBWE"
   },
   "source": [
    "`np.where` can help locating images of a given class (use the first value returned by `where` with `[0]` to access the indices). Find the first 10 images with class 1 (car) in the train set."
   ]
  },
  {
   "cell_type": "code",
   "execution_count": null,
   "metadata": {
    "id": "7Kly-XTg7gui"
   },
   "outputs": [],
   "source": [
    "np.where(...)[0][...]"
   ]
  },
  {
   "cell_type": "markdown",
   "metadata": {
    "id": "nCYxtzTW7guj"
   },
   "source": [
    "Define a list representing the image categories: plane, car, bird, cat, deer, dog, frog, horse, boat, truck"
   ]
  },
  {
   "cell_type": "code",
   "execution_count": null,
   "metadata": {
    "id": "dK9PNW2J7gun"
   },
   "outputs": [],
   "source": [
    "labels = ['plane', 'car', 'bird', 'cat', 'deer', ...]"
   ]
  },
  {
   "cell_type": "markdown",
   "metadata": {
    "id": "TbYty5WF7guo"
   },
   "source": [
    "Now we know how to manipulate our data, let's display the first 20 images of each class in the training set. For this we will use the same sort of code as before for plotting images on a grid, but we have to search the right indices of the images so they belong to the right class."
   ]
  },
  {
   "cell_type": "code",
   "execution_count": null,
   "metadata": {
    "id": "Sklev9MV7gup"
   },
   "outputs": [],
   "source": [
    "n = 20\n",
    "plt.figure(figsize=(n * 0.6, 6))\n",
    "for j in range(n):\n",
    "    for i in range(n):\n",
    "        axi = plt.subplot(n, n, n * j + (1 + i))\n",
    "        index_class_j = ...\n",
    "        axi.imshow(x_train[index_class_j, :, :, :])\n",
    "        axi.axis('off')\n",
    "plt.subplots_adjust(left=0.05, right=0.95, bottom=0.04, top=0.96)\n",
    "plt.show()"
   ]
  },
  {
   "cell_type": "markdown",
   "metadata": {
    "id": "xW-dxw6b7gup"
   },
   "source": [
    "## Model definition: distance between data points\n",
    "\n",
    "k-Nearest-Neighbors (k-NN): the simplest machine learning algorithm (does not actually learn anything): classifies unknown data points by finding the  most common class among the $k$ closest examples ($k$ is odd).\n",
    "\n",
    "The distance between data points need to be defined. Classical examples:\n",
    "\n",
    " - Manhattan distance $\\sum_{i=1}^d|A_i - B_i|$\n",
    " - Euclidean distance $\\sqrt{\\sum_{i=1}^d(A_i - B_i)^2}$\n"
   ]
  },
  {
   "cell_type": "markdown",
   "metadata": {
    "id": "ksU7bhpX9MFm"
   },
   "source": [
    "Start by computing both Euclidean and Manhattan distances between the first two images. Be careful to cast the image data type to signed integer (use `.astype(np.int16)`)"
   ]
  },
  {
   "cell_type": "code",
   "execution_count": null,
   "metadata": {
    "id": "Cbw-33YC7guq"
   },
   "outputs": [],
   "source": [
    "A = ...\n",
    "B = ...\n",
    "print('data type should be int16, got: %s' % A.dtype)\n",
    "\n",
    "d1 = ...\n",
    "print('Manhattan distance: {}'.format(d1))\n",
    "\n",
    "d2 = ...\n",
    "print('Euclidean distance: {}'.format(d2))"
   ]
  },
  {
   "cell_type": "markdown",
   "metadata": {
    "id": "yUW-Hl007gur"
   },
   "source": [
    "Now prepare for training the k-NN model.\n",
    "\n",
    "First we reshape the data into large column vectors `X_train` and `X_test` (note the use of capital X here to distinguish them). Use the function `np.reshape` for this. A common practice here is to use a shape `(n, -1)` where n is the number of data points, eg n=50000 for x_train; using -1 will tell `reshape` to compute the size automatically here (which should be 3072). Note that both vectors must be of type signed integers (eg `np.int16`) to avoid problems with uint8 when computing L1 distance."
   ]
  },
  {
   "cell_type": "code",
   "execution_count": null,
   "metadata": {
    "id": "LEcSkLCd7gur",
    "outputId": "2008fce6-54a9-4cc6-b846-9594cce4eead"
   },
   "outputs": [],
   "source": [
    "X_train = x_train.reshape(...).astype(...)\n",
    "X_test = x_test.reshape(...).astype(...)\n",
    "\n",
    "print('shape of train data is {}, type is {}'.format(X_train.shape, X_train.dtype))\n",
    "print('shape of test data is {}, type is {}'.format(X_test.shape, X_test.dtype))"
   ]
  },
  {
   "cell_type": "markdown",
   "metadata": {
    "id": "hM9tk_3O-Lzz"
   },
   "source": [
    "## Run the model with k=1"
   ]
  },
  {
   "cell_type": "markdown",
   "metadata": {
    "id": "D_MebXid7gur"
   },
   "source": [
    "Use L1 (Manhattan) distance to compare images and perform nearest neighbor prediction on a **random image of the test set**. Note that in the case of k-NN we can use image in the test set since the model is not actually learning any parameters.\n",
    "\n",
    "Compute the L1 distance of a random image with the **first 10 images of the training set**."
   ]
  },
  {
   "cell_type": "code",
   "execution_count": null,
   "metadata": {
    "id": "pnzxlfDy7gus",
    "outputId": "f22c4ced-3369-427e-c265-bb5b5442c7a5"
   },
   "outputs": [],
   "source": [
    "index = np.random.randint(X_test.shape[0])\n",
    "print('using image {}'.format(index))\n",
    "\n",
    "image = X_test[...]\n",
    "d1 = np.sum(np.abs(image - X_train[:10, :]), axis=1)\n",
    "print('distance of this image with the first 10 images of the training set:')\n",
    "print(d1)"
   ]
  },
  {
   "cell_type": "markdown",
   "metadata": {
    "id": "6XIwIOC97gu0"
   },
   "source": [
    "Here we pick a category $c=5$ (dog). Get the first dog image in the test set and compute all $d_1$ distances (with all images in the training set). The index of the minimum distance can be obtain with function `np.argmin`. Then **make a prediction** for this image."
   ]
  },
  {
   "cell_type": "code",
   "execution_count": null,
   "metadata": {
    "id": "N4pwcbCj7gu1"
   },
   "outputs": [],
   "source": [
    "c = 5\n",
    "# pick the first test image with category c\n",
    "index_for_c = ...\n",
    "print('index of %s image being tested: %d' % (labels[c], index_for_c))\n",
    "print(y_test[index_for_c])  # should be equal to [c]\n",
    "image = X_test[index_for_c].astype(np.int16)\n",
    "\n",
    "# compute all d1 distances\n",
    "all_d1 = ...\n",
    "\n",
    "# find the index with minimum distance\n",
    "min_index = ...\n",
    "print('min_index = %d' % min_index)\n",
    "\n",
    "# sort indices with respect to the distance\n",
    "sorted_indices = np.argsort(all_d1)[:10]\n",
    "\n",
    "# look at the predicted category\n",
    "category = np.squeeze(y_train[min_index])\n",
    "print('predicted class is %d' % category)\n",
    "print('actual class is %d' % c)"
   ]
  },
  {
   "cell_type": "markdown",
   "metadata": {
    "id": "70_cOnNp7gu1"
   },
   "source": [
    "Plot the test image and the nearest neighbor image in the training set."
   ]
  },
  {
   "cell_type": "code",
   "execution_count": null,
   "metadata": {
    "id": "oPkj5jfX7gu1"
   },
   "outputs": [],
   "source": [
    "ax = plt.subplot(1, 2, 1)\n",
    "plt.imshow(image)\n",
    "plt.axis('off')\n",
    "plt.title('prediction: %s' % labels[category])\n",
    "# now display the first NN\n",
    "ax = plt.subplot(1, 2, 2)\n",
    "plt.imshow(...)\n",
    "plt.axis('off')\n",
    "plt.title('1-NN: %s' % min_index)\n",
    "plt.show()"
   ]
  },
  {
   "cell_type": "markdown",
   "metadata": {
    "id": "4-gKWgaJ7gu2"
   },
   "source": [
    "Create a vertical representation of the 10 image classes using the first one of each class in the test set."
   ]
  },
  {
   "cell_type": "code",
   "execution_count": null,
   "metadata": {
    "id": "h7i5VUUH7gu2"
   },
   "outputs": [],
   "source": [
    "n = 10\n",
    "plt.figure(figsize=(1, 5.8))\n",
    "for c in range(n):\n",
    "    index_for_c = ...\n",
    "    axi = plt.subplot(n, 1, c + 1)\n",
    "    axi.imshow(...)\n",
    "    axi.axis('off')\n",
    "plt.subplots_adjust(left=0.05, right=0.95, bottom=0.04, top=0.96)\n",
    "plt.show()"
   ]
  },
  {
   "cell_type": "markdown",
   "metadata": {
    "id": "IHKDVmIK7gu2"
   },
   "source": [
    "Display the first 10 nearest neighbors of each test image"
   ]
  },
  {
   "cell_type": "code",
   "execution_count": null,
   "metadata": {
    "id": "0TE3yBjF7gu3"
   },
   "outputs": [],
   "source": [
    "n = 10\n",
    "plt.figure(figsize=(5.8, 5.8))\n",
    "for k in range(n):\n",
    "    index_for_k = k\n",
    "    image = x_test[index_for_k].astype(np.int16)\n",
    "    all_d1 = np.sum(np.abs(image.ravel() - X_train[:, :]), axis=1)\n",
    "    sorted_indices = np.argsort(all_d1)[:10]\n",
    "    for i in range(n):\n",
    "        axi = plt.subplot(n, n, n * k + (1 + i))\n",
    "        axi.imshow(x_train[sorted_indices[i]])\n",
    "        axi.axis('off')\n",
    "plt.subplots_adjust(left=0.05, right=0.95, bottom=0.04, top=0.96)\n",
    "plt.show()"
   ]
  },
  {
   "cell_type": "markdown",
   "metadata": {
    "id": "hR3PqrX_7gu3"
   },
   "source": [
    "Create a visual representation of the pattern by averaging the first 10 NN"
   ]
  },
  {
   "cell_type": "code",
   "execution_count": null,
   "metadata": {
    "id": "nl08qvpd7gu3"
   },
   "outputs": [],
   "source": [
    "n = 10\n",
    "plt.figure(figsize=(1, 5.8))\n",
    "for c in range(n):\n",
    "    index_for_c = np.where(y_test == c)[0][3]\n",
    "    image = x_test[index_for_c].astype(np.int16)\n",
    "    all_d1 = np.sum(np.abs(image.ravel() - X_train[:, :]), axis=1)\n",
    "    sorted_indices = np.argsort(all_d1)[:100]\n",
    "    # average the NN\n",
    "    pattern = np.mean(x_train[sorted_indices], axis=0).astype(np.uint8)\n",
    "    axi = plt.subplot(n, 1, c + 1)\n",
    "    axi.imshow(pattern)\n",
    "    axi.axis('off')\n",
    "plt.subplots_adjust(left=0.05, right=0.95, bottom=0.04, top=0.96)\n",
    "plt.show()"
   ]
  },
  {
   "cell_type": "markdown",
   "metadata": {
    "id": "llwkZ1Fz7gu3"
   },
   "source": [
    "## Use sklearn to perform 1-NN classification"
   ]
  },
  {
   "cell_type": "code",
   "execution_count": null,
   "metadata": {
    "id": "r48f7rNj7gu4"
   },
   "outputs": [],
   "source": [
    "print('data size in memory: {:.1f} Mb'.format(X_train.nbytes / (1024 **2 )))"
   ]
  },
  {
   "cell_type": "code",
   "execution_count": null,
   "metadata": {
    "id": "fFNE-KuM7gu4"
   },
   "outputs": [],
   "source": [
    "from sklearn.neighbors import KNeighborsClassifier\n",
    "from sklearn.metrics import classification_report"
   ]
  },
  {
   "cell_type": "markdown",
   "metadata": {
    "id": "YBX9O_S17gu4"
   },
   "source": [
    "Create the model using the `KNeighborsClassifier` class with 1 neighbor and Manhattan distance (p=1)."
   ]
  },
  {
   "cell_type": "code",
   "execution_count": null,
   "metadata": {
    "id": "8jYGfVm47gu5"
   },
   "outputs": [],
   "source": [
    "model = KNeighborsClassifier(n_neighbors=..., p=..., algorithm='brute')"
   ]
  },
  {
   "cell_type": "code",
   "execution_count": null,
   "metadata": {
    "id": "qt1Cqi5n7gu5"
   },
   "outputs": [],
   "source": [
    "model.fit(...)"
   ]
  },
  {
   "cell_type": "markdown",
   "metadata": {
    "id": "cUrtnEgK7gu5"
   },
   "source": [
    "Make a prediction for the first dog image in the test set."
   ]
  },
  {
   "cell_type": "code",
   "execution_count": null,
   "metadata": {
    "id": "19WN3zgk7gu7"
   },
   "outputs": [],
   "source": [
    "model.predict(...)[0]"
   ]
  },
  {
   "cell_type": "markdown",
   "metadata": {
    "id": "vt_FE-jT7gu7"
   },
   "source": [
    "Get the 3 closest distances for this image."
   ]
  },
  {
   "cell_type": "code",
   "execution_count": null,
   "metadata": {
    "id": "QjoB-pTW7gu8"
   },
   "outputs": [],
   "source": [
    "distances_sklearn, indices_sklearn = model.kneighbors(..., 3)\n",
    "print(distances_sklearn)\n",
    "print(indices_sklearn)"
   ]
  },
  {
   "cell_type": "markdown",
   "metadata": {
    "id": "M2OLfcBL7gu9"
   },
   "source": [
    "## Comparison of our 1-NN with results from sklearn model\n",
    "\n",
    "Here we plot side by side our predictions with those obtained with the `sklearn` model."
   ]
  },
  {
   "cell_type": "code",
   "execution_count": null,
   "metadata": {
    "id": "kMiqaMCa7gu9"
   },
   "outputs": [],
   "source": [
    "index = 39\n",
    "image = x_test[index].astype(np.int16)\n",
    "all_d1 = np.sum(np.abs(image.ravel() - X_train[:, :]), axis=1)\n",
    "sorted_indices = np.argsort(all_d1)[:3]\n",
    "\n",
    "print(sorted_indices)\n",
    "print(all_d1[sorted_indices])\n",
    "\n",
    "plt.figure(figsize=(8, 4)) \n",
    "ax = plt.subplot(2, 4, 1)\n",
    "ax.imshow(image)\n",
    "#ax.axis('off')\n",
    "plt.ylabel('our k-NN')\n",
    "ax = plt.subplot(2, 4, 5)\n",
    "ax.imshow(image)\n",
    "#ax.axis('off')\n",
    "plt.ylabel('sklearn')\n",
    "for i in range(3):\n",
    "    axi = plt.subplot(2, 4, (2 + i))\n",
    "    axi.imshow(x_train[sorted_indices][i])\n",
    "    axi.axis('off')\n",
    "# compare with sklearn\n",
    "indices_sklearn = [993, 2567, 16512]\n",
    "distances_sklearn = [115500., 115544., 116846.]\n",
    "for i in range(3):\n",
    "    axi = plt.subplot(2, 4, 4 + (2 + i))\n",
    "    axi.imshow(x_train[indices_sklearn][i])\n",
    "    axi.axis('off')\n",
    "plt.show()"
   ]
  },
  {
   "cell_type": "markdown",
   "metadata": {
    "id": "mGRSWr537gu_"
   },
   "source": [
    "## Try to change the hyper-parameters\n",
    "\n",
    "The $k$ value and and distance metric are 2 important hyper-parameters that we can change to improve our model. Try using 3 neighbors and L2 distance (p=2)."
   ]
  },
  {
   "cell_type": "code",
   "execution_count": null,
   "metadata": {
    "id": "7hcd54Uv7gu_"
   },
   "outputs": [],
   "source": [
    "model_kNN = KNeighborsClassifier(n_neighbors=..., p=...)\n",
    "model_kNN.fit(X_train, np.squeeze(y_train))"
   ]
  },
  {
   "cell_type": "code",
   "execution_count": null,
   "metadata": {
    "id": "bknrjo7y7gvA"
   },
   "outputs": [],
   "source": [
    "# test the model on a few images\n",
    "k = 0\n",
    "# pick the first test image with category k\n",
    "index_for_k = ...\n",
    "print(y_test[index_for_k])\n",
    "image = x_test[...]\n",
    "category = model_kNN.predict(image.ravel().reshape((1, 3072)))[0]\n",
    "\n",
    "plt.imshow(image)\n",
    "plt.axis('off')\n",
    "plt.title('prediction: %s' % labels[category])\n",
    "plt.show()"
   ]
  },
  {
   "cell_type": "code",
   "execution_count": null,
   "metadata": {
    "id": "U_KGFeJm7gvA"
   },
   "outputs": [],
   "source": [
    "n = 10\n",
    "predictions = model_kNN.predict(X_test[:n].reshape((n, 3072)))\n",
    "plt.figure(figsize=(8, 1.5)) \n",
    "for i in range(n):\n",
    "    axi = plt.subplot(1, n, (1 + i))\n",
    "    axi.imshow(x_test[i])\n",
    "    axi.axis('off')\n",
    "    plt.title(labels[predictions[i]])\n",
    "plt.show()"
   ]
  },
  {
   "cell_type": "markdown",
   "metadata": {},
   "source": [
    "Warning, running the next cell takes a very long time since predictions with kNN are slow for large training sets. This is a good example of the limitation of this model."
   ]
  },
  {
   "cell_type": "code",
   "execution_count": null,
   "metadata": {
    "id": "lEjKGj167gvB"
   },
   "outputs": [],
   "source": [
    "print(classification_report(y_test, model_kNN.predict(X_test), target_names=labels))"
   ]
  },
  {
   "cell_type": "markdown",
   "metadata": {
    "id": "iXQv2AwO7gvB"
   },
   "source": [
    "Finally create an visual representation with 10 rows corresponding to 10 test images. Each row display the test image on the left and its the 10-NN images in the train set as computed by the model."
   ]
  },
  {
   "cell_type": "code",
   "execution_count": null,
   "metadata": {
    "id": "PmqPUmgZ7gvC"
   },
   "outputs": [],
   "source": [
    "m = 10\n",
    "offset = 30\n",
    "plt.figure(figsize=(5.8, 5.8)) \n",
    "for k in range(n):\n",
    "    # show the test image in the first column\n",
    "    ax = plt.subplot(n, 1 + m, (m + 1) * k + 1)\n",
    "    ax.imshow(x_test[offset + k])\n",
    "    ax.axis('off')\n",
    "    distances, indices = model_kNN.kneighbors(X_test[offset + k:offset + k + 1], m)\n",
    "    for i in range(m):\n",
    "        axi = plt.subplot(n, 1 + m, (m + 1) * k + (2 + i))\n",
    "        axi.imshow(x_train[indices[0][i]])\n",
    "        axi.axis('off')\n",
    "plt.show()"
   ]
  },
  {
   "cell_type": "markdown",
   "metadata": {
    "id": "QfEPJXXp7gvC"
   },
   "source": [
    "One can observe the visual proximity of the image in each row. However the images are not all from the same class. We can perhaps improve the predictions by increasing $k$ but the model is simply not well adapted to so different images."
   ]
  }
 ],
 "metadata": {
  "colab": {
   "collapsed_sections": [],
   "name": "cfar10_kNN.ipynb",
   "provenance": []
  },
  "kernelspec": {
   "display_name": "Python 3",
   "language": "python",
   "name": "python3"
  },
  "language_info": {
   "codemirror_mode": {
    "name": "ipython",
    "version": 3
   },
   "file_extension": ".py",
   "mimetype": "text/x-python",
   "name": "python",
   "nbconvert_exporter": "python",
   "pygments_lexer": "ipython3",
   "version": "3.7.4"
  }
 },
 "nbformat": 4,
 "nbformat_minor": 1
}
